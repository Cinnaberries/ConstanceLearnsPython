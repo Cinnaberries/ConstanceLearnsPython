{
 "cells": [
  {
   "cell_type": "markdown",
   "id": "c269f8e1-ea9d-4bad-b19a-7b2fc766ac08",
   "metadata": {},
   "source": [
    "# Exploratory Data Analysis Cookbook\n",
    "\n",
    "## Chapter 1: Summary Statistics\n",
    "\n",
    "We are working with Covid-19 data for this exercise."
   ]
  },
  {
   "cell_type": "code",
   "execution_count": 1,
   "id": "615685d9-6c44-44f6-949f-55904a549f95",
   "metadata": {},
   "outputs": [],
   "source": [
    "# import libraries that we will need to load and manipulate the data\n",
    "import numpy as np\n",
    "import pandas as pd"
   ]
  },
  {
   "cell_type": "code",
   "execution_count": 4,
   "id": "9c46a60c-5089-4619-b73b-3deb90c5c2c2",
   "metadata": {},
   "outputs": [
    {
     "data": {
      "text/plain": [
       "<bound method NDFrame.head of      iso_code continent     location        date  total_cases  new_cases  \\\n",
       "0         AFG      Asia  Afghanistan  24/02/2020            5          5   \n",
       "1         AFG      Asia  Afghanistan  25/02/2020            5          0   \n",
       "2         AFG      Asia  Afghanistan  26/02/2020            5          0   \n",
       "3         AFG      Asia  Afghanistan  27/02/2020            5          0   \n",
       "4         AFG      Asia  Afghanistan  28/02/2020            5          0   \n",
       "...       ...       ...          ...         ...          ...        ...   \n",
       "5813      NGA    Africa      Nigeria  06/10/2022       265741        236   \n",
       "5814      NGA    Africa      Nigeria  07/10/2022       265741          0   \n",
       "5815      NGA    Africa      Nigeria  08/10/2022       265816         75   \n",
       "5816      NGA    Africa      Nigeria  09/10/2022       265816          0   \n",
       "5817      NGA    Africa      Nigeria  10/10/2022       265816          0   \n",
       "\n",
       "      new_cases_smoothed  total_deaths  new_deaths  new_deaths_smoothed  ...  \\\n",
       "0                    NaN           NaN         NaN                  NaN  ...   \n",
       "1                    NaN           NaN         NaN                  NaN  ...   \n",
       "2                    NaN           NaN         NaN                  NaN  ...   \n",
       "3                    NaN           NaN         NaN                  NaN  ...   \n",
       "4                    NaN           NaN         NaN                  NaN  ...   \n",
       "...                  ...           ...         ...                  ...  ...   \n",
       "5813              51.286        3155.0         0.0                  0.0  ...   \n",
       "5814              51.286        3155.0         0.0                  0.0  ...   \n",
       "5815              55.000        3155.0         0.0                  0.0  ...   \n",
       "5816              55.000        3155.0         0.0                  0.0  ...   \n",
       "5817              55.000        3155.0         0.0                  0.0  ...   \n",
       "\n",
       "      female_smokers  male_smokers  handwashing_facilities  \\\n",
       "0                NaN           NaN                  37.746   \n",
       "1                NaN           NaN                  37.746   \n",
       "2                NaN           NaN                  37.746   \n",
       "3                NaN           NaN                  37.746   \n",
       "4                NaN           NaN                  37.746   \n",
       "...              ...           ...                     ...   \n",
       "5813             0.6          10.8                  41.949   \n",
       "5814             0.6          10.8                  41.949   \n",
       "5815             0.6          10.8                  41.949   \n",
       "5816             0.6          10.8                  41.949   \n",
       "5817             0.6          10.8                  41.949   \n",
       "\n",
       "      hospital_beds_per_thousand  life_expectancy  human_development_index  \\\n",
       "0                            0.5            64.83                    0.511   \n",
       "1                            0.5            64.83                    0.511   \n",
       "2                            0.5            64.83                    0.511   \n",
       "3                            0.5            64.83                    0.511   \n",
       "4                            0.5            64.83                    0.511   \n",
       "...                          ...              ...                      ...   \n",
       "5813                         NaN            54.69                    0.539   \n",
       "5814                         NaN            54.69                    0.539   \n",
       "5815                         NaN            54.69                    0.539   \n",
       "5816                         NaN            54.69                    0.539   \n",
       "5817                         NaN            54.69                    0.539   \n",
       "\n",
       "      excess_mortality_cumulative_absolute  excess_mortality_cumulative  \\\n",
       "0                                      NaN                          NaN   \n",
       "1                                      NaN                          NaN   \n",
       "2                                      NaN                          NaN   \n",
       "3                                      NaN                          NaN   \n",
       "4                                      NaN                          NaN   \n",
       "...                                    ...                          ...   \n",
       "5813                                   NaN                          NaN   \n",
       "5814                                   NaN                          NaN   \n",
       "5815                                   NaN                          NaN   \n",
       "5816                                   NaN                          NaN   \n",
       "5817                                   NaN                          NaN   \n",
       "\n",
       "      excess_mortality  excess_mortality_cumulative_per_million  \n",
       "0                  NaN                                      NaN  \n",
       "1                  NaN                                      NaN  \n",
       "2                  NaN                                      NaN  \n",
       "3                  NaN                                      NaN  \n",
       "4                  NaN                                      NaN  \n",
       "...                ...                                      ...  \n",
       "5813               NaN                                      NaN  \n",
       "5814               NaN                                      NaN  \n",
       "5815               NaN                                      NaN  \n",
       "5816               NaN                                      NaN  \n",
       "5817               NaN                                      NaN  \n",
       "\n",
       "[5818 rows x 67 columns]>"
      ]
     },
     "execution_count": 4,
     "metadata": {},
     "output_type": "execute_result"
    }
   ],
   "source": [
    "covid_data = pd.read_csv(\"covid-data.csv\")\n",
    "covid_data.head"
   ]
  },
  {
   "cell_type": "code",
   "execution_count": 5,
   "id": "b861b25e-8b8a-469b-887d-38db9743e2c9",
   "metadata": {},
   "outputs": [],
   "source": [
    "covid_data_sub = covid_data[['iso_code', 'continent', 'location', 'date', 'total_cases', 'new_cases']]"
   ]
  },
  {
   "cell_type": "code",
   "execution_count": 6,
   "id": "4c6e2826-dddd-436f-abb0-284bf74f77de",
   "metadata": {},
   "outputs": [
    {
     "data": {
      "text/html": [
       "<div>\n",
       "<style scoped>\n",
       "    .dataframe tbody tr th:only-of-type {\n",
       "        vertical-align: middle;\n",
       "    }\n",
       "\n",
       "    .dataframe tbody tr th {\n",
       "        vertical-align: top;\n",
       "    }\n",
       "\n",
       "    .dataframe thead th {\n",
       "        text-align: right;\n",
       "    }\n",
       "</style>\n",
       "<table border=\"1\" class=\"dataframe\">\n",
       "  <thead>\n",
       "    <tr style=\"text-align: right;\">\n",
       "      <th></th>\n",
       "      <th>iso_code</th>\n",
       "      <th>continent</th>\n",
       "      <th>location</th>\n",
       "      <th>date</th>\n",
       "      <th>total_cases</th>\n",
       "      <th>new_cases</th>\n",
       "    </tr>\n",
       "  </thead>\n",
       "  <tbody>\n",
       "    <tr>\n",
       "      <th>0</th>\n",
       "      <td>AFG</td>\n",
       "      <td>Asia</td>\n",
       "      <td>Afghanistan</td>\n",
       "      <td>24/02/2020</td>\n",
       "      <td>5</td>\n",
       "      <td>5</td>\n",
       "    </tr>\n",
       "    <tr>\n",
       "      <th>1</th>\n",
       "      <td>AFG</td>\n",
       "      <td>Asia</td>\n",
       "      <td>Afghanistan</td>\n",
       "      <td>25/02/2020</td>\n",
       "      <td>5</td>\n",
       "      <td>0</td>\n",
       "    </tr>\n",
       "    <tr>\n",
       "      <th>2</th>\n",
       "      <td>AFG</td>\n",
       "      <td>Asia</td>\n",
       "      <td>Afghanistan</td>\n",
       "      <td>26/02/2020</td>\n",
       "      <td>5</td>\n",
       "      <td>0</td>\n",
       "    </tr>\n",
       "    <tr>\n",
       "      <th>3</th>\n",
       "      <td>AFG</td>\n",
       "      <td>Asia</td>\n",
       "      <td>Afghanistan</td>\n",
       "      <td>27/02/2020</td>\n",
       "      <td>5</td>\n",
       "      <td>0</td>\n",
       "    </tr>\n",
       "    <tr>\n",
       "      <th>4</th>\n",
       "      <td>AFG</td>\n",
       "      <td>Asia</td>\n",
       "      <td>Afghanistan</td>\n",
       "      <td>28/02/2020</td>\n",
       "      <td>5</td>\n",
       "      <td>0</td>\n",
       "    </tr>\n",
       "  </tbody>\n",
       "</table>\n",
       "</div>"
      ],
      "text/plain": [
       "  iso_code continent     location        date  total_cases  new_cases\n",
       "0      AFG      Asia  Afghanistan  24/02/2020            5          5\n",
       "1      AFG      Asia  Afghanistan  25/02/2020            5          0\n",
       "2      AFG      Asia  Afghanistan  26/02/2020            5          0\n",
       "3      AFG      Asia  Afghanistan  27/02/2020            5          0\n",
       "4      AFG      Asia  Afghanistan  28/02/2020            5          0"
      ]
     },
     "execution_count": 6,
     "metadata": {},
     "output_type": "execute_result"
    }
   ],
   "source": [
    "covid_data_sub.head(5)"
   ]
  },
  {
   "cell_type": "code",
   "execution_count": 8,
   "id": "45f3b57e-af08-45b6-a468-c2ba5ffa9d77",
   "metadata": {},
   "outputs": [
    {
     "data": {
      "text/plain": [
       "iso_code       object\n",
       "continent      object\n",
       "location       object\n",
       "date           object\n",
       "total_cases     int64\n",
       "new_cases       int64\n",
       "dtype: object"
      ]
     },
     "execution_count": 8,
     "metadata": {},
     "output_type": "execute_result"
    }
   ],
   "source": [
    "covid_data_sub.dtypes"
   ]
  },
  {
   "cell_type": "code",
   "execution_count": 9,
   "id": "1553a3af-1b5c-4dd1-8b42-0030148244a8",
   "metadata": {},
   "outputs": [
    {
     "data": {
      "text/plain": [
       "(5818, 6)"
      ]
     },
     "execution_count": 9,
     "metadata": {},
     "output_type": "execute_result"
    }
   ],
   "source": [
    "covid_data_sub.shape"
   ]
  },
  {
   "cell_type": "markdown",
   "id": "fb7c24a1-cc74-4041-91a9-775e3a355f94",
   "metadata": {},
   "source": [
    "__Calculate mean and median__\n",
    "\n",
    "Note that both numpy and pandas have methods to calculate both"
   ]
  },
  {
   "cell_type": "code",
   "execution_count": null,
   "id": "32dd4f6f-f223-4454-80e2-fdde7c1617a7",
   "metadata": {},
   "outputs": [],
   "source": []
  },
  {
   "cell_type": "code",
   "execution_count": 10,
   "id": "33500cc8-ca33-41f9-9998-cd873139e0f1",
   "metadata": {},
   "outputs": [],
   "source": [
    "data_mean = np.mean(covid_data_sub['new_cases'])"
   ]
  },
  {
   "cell_type": "code",
   "execution_count": 11,
   "id": "ddd8e2e9-d0c7-44d9-8b06-cb2711a8c67c",
   "metadata": {},
   "outputs": [
    {
     "data": {
      "text/plain": [
       "8814.365761430045"
      ]
     },
     "execution_count": 11,
     "metadata": {},
     "output_type": "execute_result"
    }
   ],
   "source": [
    "data_mean"
   ]
  },
  {
   "cell_type": "code",
   "execution_count": 12,
   "id": "8a971871-4355-4bcd-9364-d29a5bdb4bdc",
   "metadata": {},
   "outputs": [
    {
     "data": {
      "text/plain": [
       "261.0"
      ]
     },
     "execution_count": 12,
     "metadata": {},
     "output_type": "execute_result"
    }
   ],
   "source": [
    "data_median = np.median(covid_data_sub['new_cases'])\n",
    "data_median"
   ]
  },
  {
   "cell_type": "markdown",
   "id": "97de7f6e-90d7-4bf5-9500-07677fe8570c",
   "metadata": {},
   "source": [
    "__Identifying the mode__"
   ]
  },
  {
   "cell_type": "code",
   "execution_count": 13,
   "id": "e45331cc-68a9-42d4-8917-7748368aa06e",
   "metadata": {},
   "outputs": [],
   "source": [
    "# first, import an additional module from scipy\n",
    "from scipy import stats"
   ]
  },
  {
   "cell_type": "code",
   "execution_count": 14,
   "id": "cc7d046f-7b27-481c-b4b7-e770df5c36a3",
   "metadata": {},
   "outputs": [
    {
     "data": {
      "text/plain": [
       "ModeResult(mode=0, count=805)"
      ]
     },
     "execution_count": 14,
     "metadata": {},
     "output_type": "execute_result"
    }
   ],
   "source": [
    "data_mode = stats.mode(covid_data_sub['new_cases'])\n",
    "data_mode"
   ]
  },
  {
   "cell_type": "code",
   "execution_count": 17,
   "id": "7afd0dfe-da72-4c18-a11f-057a40dfe14e",
   "metadata": {},
   "outputs": [
    {
     "data": {
      "text/plain": [
       "0"
      ]
     },
     "execution_count": 17,
     "metadata": {},
     "output_type": "execute_result"
    }
   ],
   "source": [
    "# stats.mode returns an array, which we take the first entry from to discover the new_cases mode\n",
    "data_mode[0]"
   ]
  },
  {
   "cell_type": "code",
   "execution_count": 19,
   "id": "3796ccbd-f107-4027-9f9c-cfbec9730519",
   "metadata": {},
   "outputs": [
    {
     "ename": "TypeError",
     "evalue": "Argument `a` is not recognized as numeric. Support for input that cannot be coerced to a numeric array was deprecated in SciPy 1.9.0 and removed in SciPy 1.11.0. Please consider `np.unique`.",
     "output_type": "error",
     "traceback": [
      "\u001b[1;31m---------------------------------------------------------------------------\u001b[0m",
      "\u001b[1;31mTypeError\u001b[0m                                 Traceback (most recent call last)",
      "\u001b[1;32m~\\AppData\\Local\\Temp\\ipykernel_21960\\774678742.py\u001b[0m in \u001b[0;36m?\u001b[1;34m()\u001b[0m\n\u001b[0;32m      1\u001b[0m \u001b[1;31m# learning! stats.mode can no longer be used on non-numeric columns\u001b[0m\u001b[1;33m\u001b[0m\u001b[1;33m\u001b[0m\u001b[0m\n\u001b[1;32m----> 2\u001b[1;33m \u001b[0mcontinent_mode\u001b[0m \u001b[1;33m=\u001b[0m \u001b[0mstats\u001b[0m\u001b[1;33m.\u001b[0m\u001b[0mmode\u001b[0m\u001b[1;33m(\u001b[0m\u001b[0mcovid_data_sub\u001b[0m\u001b[1;33m[\u001b[0m\u001b[1;34m'continent'\u001b[0m\u001b[1;33m]\u001b[0m\u001b[1;33m)\u001b[0m\u001b[1;33m\u001b[0m\u001b[1;33m\u001b[0m\u001b[0m\n\u001b[0m\u001b[0;32m      3\u001b[0m \u001b[0mcontinent_mode\u001b[0m\u001b[1;33m[\u001b[0m\u001b[1;36m0\u001b[0m\u001b[1;33m]\u001b[0m\u001b[1;33m\u001b[0m\u001b[1;33m\u001b[0m\u001b[0m\n",
      "\u001b[1;32m~\\AppData\\Local\\anaconda3\\Lib\\site-packages\\scipy\\stats\\_axis_nan_policy.py\u001b[0m in \u001b[0;36m?\u001b[1;34m(***failed resolving arguments***)\u001b[0m\n\u001b[0;32m    527\u001b[0m                 \u001b[1;31m# behavior of those would break backward compatibility.\u001b[0m\u001b[1;33m\u001b[0m\u001b[1;33m\u001b[0m\u001b[0m\n\u001b[0;32m    528\u001b[0m \u001b[1;33m\u001b[0m\u001b[0m\n\u001b[0;32m    529\u001b[0m                 \u001b[1;32mif\u001b[0m \u001b[0msentinel\u001b[0m\u001b[1;33m:\u001b[0m\u001b[1;33m\u001b[0m\u001b[1;33m\u001b[0m\u001b[0m\n\u001b[0;32m    530\u001b[0m                     \u001b[0msamples\u001b[0m \u001b[1;33m=\u001b[0m \u001b[0m_remove_sentinel\u001b[0m\u001b[1;33m(\u001b[0m\u001b[0msamples\u001b[0m\u001b[1;33m,\u001b[0m \u001b[0mpaired\u001b[0m\u001b[1;33m,\u001b[0m \u001b[0msentinel\u001b[0m\u001b[1;33m)\u001b[0m\u001b[1;33m\u001b[0m\u001b[1;33m\u001b[0m\u001b[0m\n\u001b[1;32m--> 531\u001b[1;33m                 \u001b[0mres\u001b[0m \u001b[1;33m=\u001b[0m \u001b[0mhypotest_fun_out\u001b[0m\u001b[1;33m(\u001b[0m\u001b[1;33m*\u001b[0m\u001b[0msamples\u001b[0m\u001b[1;33m,\u001b[0m \u001b[1;33m**\u001b[0m\u001b[0mkwds\u001b[0m\u001b[1;33m)\u001b[0m\u001b[1;33m\u001b[0m\u001b[1;33m\u001b[0m\u001b[0m\n\u001b[0m\u001b[0;32m    532\u001b[0m                 \u001b[0mres\u001b[0m \u001b[1;33m=\u001b[0m \u001b[0mresult_to_tuple\u001b[0m\u001b[1;33m(\u001b[0m\u001b[0mres\u001b[0m\u001b[1;33m)\u001b[0m\u001b[1;33m\u001b[0m\u001b[1;33m\u001b[0m\u001b[0m\n\u001b[0;32m    533\u001b[0m                 \u001b[0mres\u001b[0m \u001b[1;33m=\u001b[0m \u001b[0m_add_reduced_axes\u001b[0m\u001b[1;33m(\u001b[0m\u001b[0mres\u001b[0m\u001b[1;33m,\u001b[0m \u001b[0mreduced_axes\u001b[0m\u001b[1;33m,\u001b[0m \u001b[0mkeepdims\u001b[0m\u001b[1;33m)\u001b[0m\u001b[1;33m\u001b[0m\u001b[1;33m\u001b[0m\u001b[0m\n\u001b[0;32m    534\u001b[0m                 \u001b[1;32mreturn\u001b[0m \u001b[0mtuple_to_result\u001b[0m\u001b[1;33m(\u001b[0m\u001b[1;33m*\u001b[0m\u001b[0mres\u001b[0m\u001b[1;33m)\u001b[0m\u001b[1;33m\u001b[0m\u001b[1;33m\u001b[0m\u001b[0m\n",
      "\u001b[1;32m~\\AppData\\Local\\anaconda3\\Lib\\site-packages\\scipy\\stats\\_stats_py.py\u001b[0m in \u001b[0;36m?\u001b[1;34m(a, axis, nan_policy, keepdims)\u001b[0m\n\u001b[0;32m    518\u001b[0m         message = (\"Argument `a` is not recognized as numeric. \"\n\u001b[0;32m    519\u001b[0m                    \u001b[1;34m\"Support for input that cannot be coerced to a numeric \"\u001b[0m\u001b[1;33m\u001b[0m\u001b[1;33m\u001b[0m\u001b[0m\n\u001b[0;32m    520\u001b[0m                    \u001b[1;34m\"array was deprecated in SciPy 1.9.0 and removed in SciPy \"\u001b[0m\u001b[1;33m\u001b[0m\u001b[1;33m\u001b[0m\u001b[0m\n\u001b[0;32m    521\u001b[0m                    \u001b[1;34m\"1.11.0. Please consider `np.unique`.\"\u001b[0m\u001b[1;33m)\u001b[0m\u001b[1;33m\u001b[0m\u001b[1;33m\u001b[0m\u001b[0m\n\u001b[1;32m--> 522\u001b[1;33m         \u001b[1;32mraise\u001b[0m \u001b[0mTypeError\u001b[0m\u001b[1;33m(\u001b[0m\u001b[0mmessage\u001b[0m\u001b[1;33m)\u001b[0m\u001b[1;33m\u001b[0m\u001b[1;33m\u001b[0m\u001b[0m\n\u001b[0m\u001b[0;32m    523\u001b[0m \u001b[1;33m\u001b[0m\u001b[0m\n\u001b[0;32m    524\u001b[0m     \u001b[1;32mif\u001b[0m \u001b[0ma\u001b[0m\u001b[1;33m.\u001b[0m\u001b[0msize\u001b[0m \u001b[1;33m==\u001b[0m \u001b[1;36m0\u001b[0m\u001b[1;33m:\u001b[0m\u001b[1;33m\u001b[0m\u001b[1;33m\u001b[0m\u001b[0m\n\u001b[0;32m    525\u001b[0m         \u001b[0mNaN\u001b[0m \u001b[1;33m=\u001b[0m \u001b[0m_get_nan\u001b[0m\u001b[1;33m(\u001b[0m\u001b[0ma\u001b[0m\u001b[1;33m)\u001b[0m\u001b[1;33m\u001b[0m\u001b[1;33m\u001b[0m\u001b[0m\n",
      "\u001b[1;31mTypeError\u001b[0m: Argument `a` is not recognized as numeric. Support for input that cannot be coerced to a numeric array was deprecated in SciPy 1.9.0 and removed in SciPy 1.11.0. Please consider `np.unique`."
     ]
    }
   ],
   "source": [
    "# learning! stats.mode can no longer be used on non-numeric columns\n",
    "continent_mode = stats.mode(covid_data_sub['continent'])\n",
    "continent_mode[0]"
   ]
  },
  {
   "cell_type": "markdown",
   "id": "843ffee5-b4e9-4053-9eb9-91537a1bc4dd",
   "metadata": {},
   "source": [
    "__Checking the variance of the data set__\n",
    "\n",
    "Both pandas and numpy have methods to calculate variance and standard deviation"
   ]
  },
  {
   "cell_type": "code",
   "execution_count": 20,
   "id": "02cb8e6e-b8d6-442e-b3d7-66e48fecc112",
   "metadata": {},
   "outputs": [
    {
     "data": {
      "text/plain": [
       "451321915.92810047"
      ]
     },
     "execution_count": 20,
     "metadata": {},
     "output_type": "execute_result"
    }
   ],
   "source": [
    "data_variance = np.var(covid_data_sub['new_cases'])\n",
    "data_variance"
   ]
  },
  {
   "cell_type": "markdown",
   "id": "da3c90d2-5789-473a-9af5-b799b9a3ac1f",
   "metadata": {},
   "source": [
    "__Standard deviation__\n",
    "\n",
    "Standard deviation is the square root of the variance, and is expressed in the same units as the original column. This makes SD more intuitively easy to understand.\n",
    "\n",
    "Variance is a distance calculation, based I think on the Pythogorean formula. Standard deviation is derived from variance by taking the square root, and so the cell below results in a standard deviation of about 21,000 new cases. This means that when considering the data set as a whole, average new cases for each day tend to fall within 21k cases of the mean. Based on the mean calculated above, that would put new cases for a typical point in the data set between 0 and 30k (technically between -12k and 30k, but you can't have negative new cases)."
   ]
  },
  {
   "cell_type": "code",
   "execution_count": 21,
   "id": "812c1165-b1f6-4704-8fc2-1ee95ebd43c2",
   "metadata": {},
   "outputs": [
    {
     "data": {
      "text/plain": [
       "21244.33844411495"
      ]
     },
     "execution_count": 21,
     "metadata": {},
     "output_type": "execute_result"
    }
   ],
   "source": [
    "data_sd = np.std(covid_data_sub['new_cases'])\n",
    "data_sd"
   ]
  },
  {
   "cell_type": "markdown",
   "id": "3ad8e57e-133f-4ac4-ade8-05d85c49ba96",
   "metadata": {},
   "source": [
    "__Max and Min__\n",
    "\n",
    "How far apart are the largest and smallest values of new cases in our data set?"
   ]
  },
  {
   "cell_type": "code",
   "execution_count": 22,
   "id": "4670b253-dd8a-47c0-a74a-c41f7b77265c",
   "metadata": {},
   "outputs": [
    {
     "name": "stdout",
     "output_type": "stream",
     "text": [
      "0 287149\n"
     ]
    }
   ],
   "source": [
    "data_max = np.max(covid_data_sub['new_cases'])\n",
    "data_min = np.min(covid_data_sub['new_cases'])\n",
    "\n",
    "print(data_min, data_max)"
   ]
  },
  {
   "cell_type": "code",
   "execution_count": 24,
   "id": "2f803f50-684e-43d5-92dd-f6379b4567b0",
   "metadata": {},
   "outputs": [
    {
     "data": {
      "text/plain": [
       "287149"
      ]
     },
     "execution_count": 24,
     "metadata": {},
     "output_type": "execute_result"
    }
   ],
   "source": [
    "# in this case, since data_min = 0, data_range = data_max\n",
    "data_range = data_max - data_min\n",
    "data_range"
   ]
  },
  {
   "cell_type": "markdown",
   "id": "fd73a3b2-fcab-4589-bea6-81cf746d17d7",
   "metadata": {},
   "source": [
    "__Percentiles__\n",
    "\n",
    "Percentiles divide a data set into equal sizes. Pandas has a percentile method called quantile which functions the same."
   ]
  },
  {
   "cell_type": "code",
   "execution_count": 29,
   "id": "fd1468a1-3830-42d1-b079-318bd27b9ac2",
   "metadata": {},
   "outputs": [
    {
     "data": {
      "text/plain": [
       "591.3999999999996"
      ]
     },
     "execution_count": 29,
     "metadata": {},
     "output_type": "execute_result"
    }
   ],
   "source": [
    "data_percentile = np.percentile(covid_data_sub['new_cases'], 60)\n",
    "data_percentile"
   ]
  },
  {
   "cell_type": "markdown",
   "id": "355666b7-eecd-42a9-887e-eeee89c6b954",
   "metadata": {},
   "source": [
    "__Quartiles__\n",
    "\n",
    "Quartiles divide the data set into 4 equal portions, while percentiles divide it into 100 portions. Quantile is the broad term for the sections/method of dividing data."
   ]
  },
  {
   "cell_type": "code",
   "execution_count": 31,
   "id": "b7fae9e0-2348-440d-9b38-326233986438",
   "metadata": {},
   "outputs": [
    {
     "data": {
      "text/plain": [
       "3666.0"
      ]
     },
     "execution_count": 31,
     "metadata": {},
     "output_type": "execute_result"
    }
   ],
   "source": [
    "data_quartile = np.quantile(covid_data_sub['new_cases'], 0.75)\n",
    "data_quartile"
   ]
  },
  {
   "cell_type": "markdown",
   "id": "69b2c5d2-9182-409d-8f1e-00a7cee5397d",
   "metadata": {},
   "source": [
    "__IQR__\n",
    "\n",
    "The interquartile range describes the range of the middle 50% of the data (specifically the distance between 1st and 3rd quartile), and is not as sensitive to outliers because of that."
   ]
  },
  {
   "cell_type": "code",
   "execution_count": 32,
   "id": "cd7163aa-5fef-46dc-aff4-0074068a4c61",
   "metadata": {},
   "outputs": [
    {
     "data": {
      "text/plain": [
       "3642.0"
      ]
     },
     "execution_count": 32,
     "metadata": {},
     "output_type": "execute_result"
    }
   ],
   "source": [
    "# this is another situation where we need to use the stats module from scipy\n",
    "data_iqr = stats.iqr(covid_data_sub['new_cases'])\n",
    "data_iqr"
   ]
  },
  {
   "cell_type": "code",
   "execution_count": null,
   "id": "648609f8-73d3-4f9d-bddf-df93d4bb9e85",
   "metadata": {},
   "outputs": [],
   "source": []
  }
 ],
 "metadata": {
  "kernelspec": {
   "display_name": "Python 3 (ipykernel)",
   "language": "python",
   "name": "python3"
  },
  "language_info": {
   "codemirror_mode": {
    "name": "ipython",
    "version": 3
   },
   "file_extension": ".py",
   "mimetype": "text/x-python",
   "name": "python",
   "nbconvert_exporter": "python",
   "pygments_lexer": "ipython3",
   "version": "3.12.7"
  }
 },
 "nbformat": 4,
 "nbformat_minor": 5
}
